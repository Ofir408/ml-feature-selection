{
  "nbformat": 4,
  "nbformat_minor": 0,
  "metadata": {
    "colab": {
      "name": "ofir-final-project-preprocessing.ipynb",
      "provenance": [],
      "collapsed_sections": [],
      "authorship_tag": "ABX9TyNPoVYpgcDtfXuZVwrb5SsC",
      "include_colab_link": true
    },
    "kernelspec": {
      "name": "python3",
      "display_name": "Python 3"
    },
    "language_info": {
      "name": "python"
    }
  },
  "cells": [
    {
      "cell_type": "markdown",
      "metadata": {
        "id": "view-in-github",
        "colab_type": "text"
      },
      "source": [
        "<a href=\"https://colab.research.google.com/github/Ofir408/ml-feature-selection/blob/main/data_preprocessing.ipynb\" target=\"_parent\"><img src=\"https://colab.research.google.com/assets/colab-badge.svg\" alt=\"Open In Colab\"/></a>"
      ]
    },
    {
      "cell_type": "markdown",
      "source": [
        "Ofir Ben Shoham"
      ],
      "metadata": {
        "id": "EzbUP2cKFX4o"
      }
    },
    {
      "cell_type": "markdown",
      "source": [
        "This nootbook is part of the code of the final project. \n",
        "\n",
        "Here I do the required preprocessing on the 20 datasets"
      ],
      "metadata": {
        "id": "720ahlNmFcaR"
      }
    },
    {
      "cell_type": "markdown",
      "source": [
        "## Setup"
      ],
      "metadata": {
        "id": "ke2R9mWjFoKg"
      }
    },
    {
      "cell_type": "code",
      "execution_count": 1,
      "metadata": {
        "id": "f3jy7x0iFTz0"
      },
      "outputs": [],
      "source": [
        "import pandas as pd\n",
        "from google.colab import drive\n",
        "import scipy\n",
        "from sklearn import preprocessing\n",
        "import numpy as np"
      ]
    },
    {
      "cell_type": "code",
      "source": [
        "drive.mount('/content/gdrive')"
      ],
      "metadata": {
        "colab": {
          "base_uri": "https://localhost:8080/"
        },
        "id": "3c5iz57mFqdE",
        "outputId": "3f716561-a0ca-4985-cc3a-e8fbfea07138"
      },
      "execution_count": 2,
      "outputs": [
        {
          "output_type": "stream",
          "name": "stdout",
          "text": [
            "Mounted at /content/gdrive\n"
          ]
        }
      ]
    },
    {
      "cell_type": "markdown",
      "source": [
        "## Data Preprocessing"
      ],
      "metadata": {
        "id": "rJFcEXZWUz_E"
      }
    },
    {
      "cell_type": "code",
      "source": [
        "from sklearn.impute import SimpleImputer\n",
        "from sklearn.compose import ColumnTransformer\n",
        "from sklearn.preprocessing import Normalizer, PowerTransformer\n",
        "from sklearn.feature_selection import VarianceThreshold\n",
        "\n",
        "def preprocess(X, y):\n",
        "  prep_df = pd.DataFrame(X, columns=[\"Feature\" + str(x) for x in range(X.shape[1])])\n",
        "\n",
        "  ct = ColumnTransformer(\n",
        "    [\n",
        "        (\"simpleImputer\", SimpleImputer(missing_values=np.nan, strategy='mean'), prep_df.columns),\n",
        "        (\"varianceThreshold\", VarianceThreshold(), prep_df.columns),\n",
        "        (\"normalizer\", PowerTransformer(), prep_df.columns)\n",
        "\n",
        "    ])\n",
        "  X = ct.fit_transform(prep_df)\n",
        "  prep_df['y'] = y\n",
        "\n",
        "  preprocess_df = pd.DataFrame(X, columns=[\"Feature\" + str(x) for x in range(X.shape[1])])\n",
        "  preprocess_df['y'] = y\n",
        "  return preprocess_df\n",
        "\n"
      ],
      "metadata": {
        "id": "zKzAFyzuU1AX"
      },
      "execution_count": 3,
      "outputs": []
    },
    {
      "cell_type": "markdown",
      "source": [
        "### scikit-feature datasets preprocessing"
      ],
      "metadata": {
        "id": "k6BnjUJLwhL-"
      }
    },
    {
      "cell_type": "code",
      "source": [
        "from scipy import io\n",
        "#for ds_name in ['colon', 'Yale', 'GLIOMA', 'arcene', 'Carcinom', 'madelon', 'ORL', 'leukemia', 'PCMAC', 'pixraw10P', 'lung_small', 'lymphoma', 'nci9', 'orlraws10P']:\n",
        "for ds_name in ['arcene']:\n",
        "  mat = io.loadmat(f'/content/gdrive/MyDrive/ml-bgu/datasets/scikit-feature/{ds_name}.mat')\n",
        "  X = mat['X']\n",
        "  y = mat['Y']\n",
        "  final_df = preprocess(X, y)\n",
        "  final_df.to_csv(f'/content/gdrive/MyDrive/ml-bgu/datasets_after_preprocessing/{ds_name}.csv')\n"
      ],
      "metadata": {
        "id": "w-ZjQqDxhWHC",
        "colab": {
          "base_uri": "https://localhost:8080/"
        },
        "outputId": "ebf03a9f-6e52-40d4-82ec-a4965e6bd4a7"
      },
      "execution_count": 53,
      "outputs": [
        {
          "output_type": "stream",
          "name": "stderr",
          "text": [
            "/usr/local/lib/python3.7/dist-packages/sklearn/preprocessing/_data.py:3253: RuntimeWarning: divide by zero encountered in log\n",
            "  loglike = -n_samples / 2 * np.log(x_trans.var())\n"
          ]
        }
      ]
    },
    {
      "cell_type": "markdown",
      "source": [
        "### Datamicroarray datasets preprocessing\n"
      ],
      "metadata": {
        "id": "C4YJTHxFwl0-"
      }
    },
    {
      "cell_type": "code",
      "source": [
        "dir_path = '/content/gdrive/MyDrive/ml-bgu/datasets/Datamicroarray/csv/'\n",
        "\n",
        "for ds_name in ['sorlie', 'su', 'gravier', 'christensen', 'singh', 'yeoh']:\n",
        "  inputs_file_path = f'{dir_path}/{ds_name}/{ds_name}_inputs.csv'\n",
        "  outputs_file_path = f'{dir_path}/{ds_name}/{ds_name}_outputs.csv'\n",
        "  inputs_df = pd.read_csv(inputs_file_path, header=None)\n",
        "  inputs_df.columns = [str(x) for x in inputs_df.columns]\n",
        "  outputs_df = pd.read_csv(outputs_file_path, header=None)\n",
        "  outputs_df.columns = ['y']\n",
        "\n",
        "  final_df = preprocess(inputs_df.to_numpy(), outputs_df.to_numpy())\n",
        "  final_df.to_csv(f'/content/gdrive/MyDrive/ml-bgu/datasets_after_preprocessing/{ds_name}.csv')\n"
      ],
      "metadata": {
        "id": "cFtCt_3D1e9E"
      },
      "execution_count": null,
      "outputs": []
    },
    {
      "cell_type": "markdown",
      "source": [
        "### Misc datasets preprocessing"
      ],
      "metadata": {
        "id": "EIdcYc0ND1do"
      }
    },
    {
      "cell_type": "code",
      "source": [
        "from scipy.io import arff\n",
        "dir_path = '/content/gdrive/MyDrive/ml-bgu/datasets/Misc'\n",
        "\n",
        "for ds_name in ['GDS3610', 'GDS6063']:\n",
        "  df = pd.read_csv(f'{dir_path}/{ds_name}.csv')\n",
        "  final_df = preprocess(df.to_numpy(), df['Class'].to_numpy())\n",
        "  final_df.to_csv(f'/content/gdrive/MyDrive/ml-bgu/datasets_after_preprocessing/{ds_name}.csv')\n"
      ],
      "metadata": {
        "id": "hgxtBE8iD9an"
      },
      "execution_count": null,
      "outputs": []
    },
    {
      "cell_type": "code",
      "source": [
        "from sklearn import preprocessing\n",
        "\n",
        "for ds_name in ['journal.pone.0246039.s002', 'journal.pone.0246039.s005',\n",
        "                'pone.0246039.s001']:\n",
        "  df = pd.read_csv(f'{dir_path}/{ds_name}.csv')\n",
        "  if 'samples' in df.columns:\n",
        "    df.drop(columns=['samples'], inplace=True)\n",
        "  le = preprocessing.LabelEncoder()\n",
        "  class_column = le.fit_transform(df['Response'])\n",
        "  final_df = preprocess(df.drop(columns=['Response']).to_numpy(), class_column)\n",
        "  final_df.to_csv(f'/content/gdrive/MyDrive/ml-bgu/datasets_after_preprocessing/{ds_name}.csv')\n"
      ],
      "metadata": {
        "id": "U_G6LyKkTfN4"
      },
      "execution_count": null,
      "outputs": []
    },
    {
      "cell_type": "markdown",
      "source": [
        "### mAML datasets preprocessing"
      ],
      "metadata": {
        "id": "jqpJExSprvZj"
      }
    },
    {
      "cell_type": "code",
      "source": [
        "dir_path = '/content/gdrive/MyDrive/ml-bgu/datasets/mAML_benchmark_datasets'\n",
        "\n",
        "for ds_name in ['Montassier2016_Bacteremia', 'Qin2012_Diabetes',\n",
        "                'Ravel2011_Vaginal', 'Wu2011_Diet', 'Costello2009_Subject.7', 'Gevers2014_IBD_rectum']:\n",
        "  print(f'ds_name={ds_name}')\n",
        "  inputs_df = pd.read_csv(f'{dir_path}/{ds_name}.csv')\n",
        "  output_df = pd.read_csv(f'{dir_path}/{ds_name}.mf.csv')\n",
        "  df = inputs_df.join(output_df, lsuffix='i')\n",
        "  le = preprocessing.LabelEncoder()\n",
        "  class_column = le.fit_transform(df['label'])\n",
        "  final_df = preprocess(df.drop(columns=['#SampleID', '#SampleIDi', 'label']).to_numpy(), class_column)\n",
        "  final_df.to_csv(f'/content/gdrive/MyDrive/ml-bgu/datasets_after_preprocessing/{ds_name}.csv')\n"
      ],
      "metadata": {
        "colab": {
          "base_uri": "https://localhost:8080/"
        },
        "id": "mShf_FTpxKxR",
        "outputId": "cd6c88c3-00ad-4e01-f8a6-cea092218ec3"
      },
      "execution_count": null,
      "outputs": [
        {
          "output_type": "stream",
          "name": "stdout",
          "text": [
            "ds_name=Montassier2016_Bacteremia\n",
            "ds_name=Qin2012_Diabetes\n",
            "ds_name=Ravel2011_Vaginal\n",
            "ds_name=Wu2011_Diet\n",
            "ds_name=Costello2009_Subject.7\n"
          ]
        }
      ]
    },
    {
      "cell_type": "code",
      "source": [
        "dir_path = '/content/gdrive/MyDrive/ml-bgu/datasets/mAML_benchmark_datasets'\n",
        "\n",
        "for ds_name in ['Gevers2014_IBD_ileum', 'Huttenhower2012_HMP.BS.5', 'Morgan2012_IBD.3', 'Gevers2014_IBD_rectum']:\n",
        "  print(f'ds_name={ds_name}')\n",
        "  inputs_df = pd.read_csv(f'{dir_path}/{ds_name}.csv')\n",
        "  output_df = pd.read_csv(f'{dir_path}/{ds_name}.mf.csv')\n",
        "  df = inputs_df.join(output_df, lsuffix='i')\n",
        "  le = preprocessing.LabelEncoder()\n",
        "  class_column = le.fit_transform(df['label'])\n",
        "  final_df = preprocess(df.drop(columns=['#SampleID', '#SampleIDi', 'label']).to_numpy(), class_column)\n",
        "  final_df.to_csv(f'/content/gdrive/MyDrive/ml-bgu/datasets_after_preprocessing/{ds_name}.csv')\n"
      ],
      "metadata": {
        "colab": {
          "base_uri": "https://localhost:8080/"
        },
        "id": "zP6jt2sLp4YP",
        "outputId": "28b9d41a-cbf7-4fef-99fe-3e9438dd73f6"
      },
      "execution_count": 11,
      "outputs": [
        {
          "output_type": "stream",
          "name": "stdout",
          "text": [
            "ds_name=Gevers2014_IBD_rectum\n"
          ]
        }
      ]
    },
    {
      "cell_type": "markdown",
      "source": [
        "## ARFF dataset preprocessing"
      ],
      "metadata": {
        "id": "cRqGpsKYb1_Y"
      }
    },
    {
      "cell_type": "code",
      "source": [
        "from scipy.io import arff\n",
        "import pandas as pd\n",
        "\n",
        "data = arff.loadarff('/content/gdrive/MyDrive/ml-bgu/datasets/ARFF/Lung.arff')\n",
        "df = pd.DataFrame(data[0])\n",
        "df.head()\n"
      ],
      "metadata": {
        "colab": {
          "base_uri": "https://localhost:8080/",
          "height": 314
        },
        "id": "vXfqStapb5A4",
        "outputId": "67e9062c-ff57-438b-e34b-f13057d34f47"
      },
      "execution_count": 9,
      "outputs": [
        {
          "output_type": "execute_result",
          "data": {
            "text/plain": [
              "   AFFX-MurIL2_at  AFFX-MurIL10_at  AFFX-MurIL4_at  AFFX-MurFAS_at  \\\n",
              "0         -18.600            10.54           0.010          19.440   \n",
              "1           9.120             9.12          10.180          29.290   \n",
              "2          -2.175            -2.21          -0.060           6.320   \n",
              "3          -1.540            21.75           5.835          23.815   \n",
              "4          -9.070             3.08          -1.980          17.260   \n",
              "\n",
              "   AFFX-BioB-5_at  AFFX-BioB-M_at  AFFX-BioB-3_at  AFFX-BioC-5_at  \\\n",
              "0         -16.980          -27.50          -1.600           38.88   \n",
              "1          -4.680           -1.50          -3.620           20.80   \n",
              "2          -1.775          -16.53          -3.610           16.41   \n",
              "3         -24.785          -12.89          -4.485           19.50   \n",
              "4         -10.090          -15.15         -18.190           13.21   \n",
              "\n",
              "   AFFX-BioC-3_at  AFFX-BioDn-5_at  ...  101_at  102_at  103_at  104_at  \\\n",
              "0         -29.120          -42.870  ...   8.110  33.210  30.780   47.80   \n",
              "1         -13.180          -35.470  ...  15.490  27.170  26.110   45.22   \n",
              "2         -17.970          -57.020  ...  14.610  10.875  10.615   35.14   \n",
              "3         -21.445          -47.205  ...   9.615  27.355  30.860   48.71   \n",
              "4         -13.130          -39.470  ... -14.140  23.340   6.120   33.46   \n",
              "\n",
              "   105_at  106_at  107_at  108_g_at   109_at  type  \n",
              "0   1.630  17.020  13.780   -103.49   76.980  b'1'  \n",
              "1  10.180  69.640 -24.850    -34.41  105.730  b'1'  \n",
              "2   1.745  29.710  10.465    -42.63   73.735  b'1'  \n",
              "3  10.355  40.845  54.615    -71.38   65.435  b'1'  \n",
              "4 -10.090  40.550  16.250    -48.59   39.540  b'1'  \n",
              "\n",
              "[5 rows x 12601 columns]"
            ],
            "text/html": [
              "\n",
              "  <div id=\"df-d6eaf08b-6c80-4b1f-ac8d-ae9733baaf99\">\n",
              "    <div class=\"colab-df-container\">\n",
              "      <div>\n",
              "<style scoped>\n",
              "    .dataframe tbody tr th:only-of-type {\n",
              "        vertical-align: middle;\n",
              "    }\n",
              "\n",
              "    .dataframe tbody tr th {\n",
              "        vertical-align: top;\n",
              "    }\n",
              "\n",
              "    .dataframe thead th {\n",
              "        text-align: right;\n",
              "    }\n",
              "</style>\n",
              "<table border=\"1\" class=\"dataframe\">\n",
              "  <thead>\n",
              "    <tr style=\"text-align: right;\">\n",
              "      <th></th>\n",
              "      <th>AFFX-MurIL2_at</th>\n",
              "      <th>AFFX-MurIL10_at</th>\n",
              "      <th>AFFX-MurIL4_at</th>\n",
              "      <th>AFFX-MurFAS_at</th>\n",
              "      <th>AFFX-BioB-5_at</th>\n",
              "      <th>AFFX-BioB-M_at</th>\n",
              "      <th>AFFX-BioB-3_at</th>\n",
              "      <th>AFFX-BioC-5_at</th>\n",
              "      <th>AFFX-BioC-3_at</th>\n",
              "      <th>AFFX-BioDn-5_at</th>\n",
              "      <th>...</th>\n",
              "      <th>101_at</th>\n",
              "      <th>102_at</th>\n",
              "      <th>103_at</th>\n",
              "      <th>104_at</th>\n",
              "      <th>105_at</th>\n",
              "      <th>106_at</th>\n",
              "      <th>107_at</th>\n",
              "      <th>108_g_at</th>\n",
              "      <th>109_at</th>\n",
              "      <th>type</th>\n",
              "    </tr>\n",
              "  </thead>\n",
              "  <tbody>\n",
              "    <tr>\n",
              "      <th>0</th>\n",
              "      <td>-18.600</td>\n",
              "      <td>10.54</td>\n",
              "      <td>0.010</td>\n",
              "      <td>19.440</td>\n",
              "      <td>-16.980</td>\n",
              "      <td>-27.50</td>\n",
              "      <td>-1.600</td>\n",
              "      <td>38.88</td>\n",
              "      <td>-29.120</td>\n",
              "      <td>-42.870</td>\n",
              "      <td>...</td>\n",
              "      <td>8.110</td>\n",
              "      <td>33.210</td>\n",
              "      <td>30.780</td>\n",
              "      <td>47.80</td>\n",
              "      <td>1.630</td>\n",
              "      <td>17.020</td>\n",
              "      <td>13.780</td>\n",
              "      <td>-103.49</td>\n",
              "      <td>76.980</td>\n",
              "      <td>b'1'</td>\n",
              "    </tr>\n",
              "    <tr>\n",
              "      <th>1</th>\n",
              "      <td>9.120</td>\n",
              "      <td>9.12</td>\n",
              "      <td>10.180</td>\n",
              "      <td>29.290</td>\n",
              "      <td>-4.680</td>\n",
              "      <td>-1.50</td>\n",
              "      <td>-3.620</td>\n",
              "      <td>20.80</td>\n",
              "      <td>-13.180</td>\n",
              "      <td>-35.470</td>\n",
              "      <td>...</td>\n",
              "      <td>15.490</td>\n",
              "      <td>27.170</td>\n",
              "      <td>26.110</td>\n",
              "      <td>45.22</td>\n",
              "      <td>10.180</td>\n",
              "      <td>69.640</td>\n",
              "      <td>-24.850</td>\n",
              "      <td>-34.41</td>\n",
              "      <td>105.730</td>\n",
              "      <td>b'1'</td>\n",
              "    </tr>\n",
              "    <tr>\n",
              "      <th>2</th>\n",
              "      <td>-2.175</td>\n",
              "      <td>-2.21</td>\n",
              "      <td>-0.060</td>\n",
              "      <td>6.320</td>\n",
              "      <td>-1.775</td>\n",
              "      <td>-16.53</td>\n",
              "      <td>-3.610</td>\n",
              "      <td>16.41</td>\n",
              "      <td>-17.970</td>\n",
              "      <td>-57.020</td>\n",
              "      <td>...</td>\n",
              "      <td>14.610</td>\n",
              "      <td>10.875</td>\n",
              "      <td>10.615</td>\n",
              "      <td>35.14</td>\n",
              "      <td>1.745</td>\n",
              "      <td>29.710</td>\n",
              "      <td>10.465</td>\n",
              "      <td>-42.63</td>\n",
              "      <td>73.735</td>\n",
              "      <td>b'1'</td>\n",
              "    </tr>\n",
              "    <tr>\n",
              "      <th>3</th>\n",
              "      <td>-1.540</td>\n",
              "      <td>21.75</td>\n",
              "      <td>5.835</td>\n",
              "      <td>23.815</td>\n",
              "      <td>-24.785</td>\n",
              "      <td>-12.89</td>\n",
              "      <td>-4.485</td>\n",
              "      <td>19.50</td>\n",
              "      <td>-21.445</td>\n",
              "      <td>-47.205</td>\n",
              "      <td>...</td>\n",
              "      <td>9.615</td>\n",
              "      <td>27.355</td>\n",
              "      <td>30.860</td>\n",
              "      <td>48.71</td>\n",
              "      <td>10.355</td>\n",
              "      <td>40.845</td>\n",
              "      <td>54.615</td>\n",
              "      <td>-71.38</td>\n",
              "      <td>65.435</td>\n",
              "      <td>b'1'</td>\n",
              "    </tr>\n",
              "    <tr>\n",
              "      <th>4</th>\n",
              "      <td>-9.070</td>\n",
              "      <td>3.08</td>\n",
              "      <td>-1.980</td>\n",
              "      <td>17.260</td>\n",
              "      <td>-10.090</td>\n",
              "      <td>-15.15</td>\n",
              "      <td>-18.190</td>\n",
              "      <td>13.21</td>\n",
              "      <td>-13.130</td>\n",
              "      <td>-39.470</td>\n",
              "      <td>...</td>\n",
              "      <td>-14.140</td>\n",
              "      <td>23.340</td>\n",
              "      <td>6.120</td>\n",
              "      <td>33.46</td>\n",
              "      <td>-10.090</td>\n",
              "      <td>40.550</td>\n",
              "      <td>16.250</td>\n",
              "      <td>-48.59</td>\n",
              "      <td>39.540</td>\n",
              "      <td>b'1'</td>\n",
              "    </tr>\n",
              "  </tbody>\n",
              "</table>\n",
              "<p>5 rows × 12601 columns</p>\n",
              "</div>\n",
              "      <button class=\"colab-df-convert\" onclick=\"convertToInteractive('df-d6eaf08b-6c80-4b1f-ac8d-ae9733baaf99')\"\n",
              "              title=\"Convert this dataframe to an interactive table.\"\n",
              "              style=\"display:none;\">\n",
              "        \n",
              "  <svg xmlns=\"http://www.w3.org/2000/svg\" height=\"24px\"viewBox=\"0 0 24 24\"\n",
              "       width=\"24px\">\n",
              "    <path d=\"M0 0h24v24H0V0z\" fill=\"none\"/>\n",
              "    <path d=\"M18.56 5.44l.94 2.06.94-2.06 2.06-.94-2.06-.94-.94-2.06-.94 2.06-2.06.94zm-11 1L8.5 8.5l.94-2.06 2.06-.94-2.06-.94L8.5 2.5l-.94 2.06-2.06.94zm10 10l.94 2.06.94-2.06 2.06-.94-2.06-.94-.94-2.06-.94 2.06-2.06.94z\"/><path d=\"M17.41 7.96l-1.37-1.37c-.4-.4-.92-.59-1.43-.59-.52 0-1.04.2-1.43.59L10.3 9.45l-7.72 7.72c-.78.78-.78 2.05 0 2.83L4 21.41c.39.39.9.59 1.41.59.51 0 1.02-.2 1.41-.59l7.78-7.78 2.81-2.81c.8-.78.8-2.07 0-2.86zM5.41 20L4 18.59l7.72-7.72 1.47 1.35L5.41 20z\"/>\n",
              "  </svg>\n",
              "      </button>\n",
              "      \n",
              "  <style>\n",
              "    .colab-df-container {\n",
              "      display:flex;\n",
              "      flex-wrap:wrap;\n",
              "      gap: 12px;\n",
              "    }\n",
              "\n",
              "    .colab-df-convert {\n",
              "      background-color: #E8F0FE;\n",
              "      border: none;\n",
              "      border-radius: 50%;\n",
              "      cursor: pointer;\n",
              "      display: none;\n",
              "      fill: #1967D2;\n",
              "      height: 32px;\n",
              "      padding: 0 0 0 0;\n",
              "      width: 32px;\n",
              "    }\n",
              "\n",
              "    .colab-df-convert:hover {\n",
              "      background-color: #E2EBFA;\n",
              "      box-shadow: 0px 1px 2px rgba(60, 64, 67, 0.3), 0px 1px 3px 1px rgba(60, 64, 67, 0.15);\n",
              "      fill: #174EA6;\n",
              "    }\n",
              "\n",
              "    [theme=dark] .colab-df-convert {\n",
              "      background-color: #3B4455;\n",
              "      fill: #D2E3FC;\n",
              "    }\n",
              "\n",
              "    [theme=dark] .colab-df-convert:hover {\n",
              "      background-color: #434B5C;\n",
              "      box-shadow: 0px 1px 3px 1px rgba(0, 0, 0, 0.15);\n",
              "      filter: drop-shadow(0px 1px 2px rgba(0, 0, 0, 0.3));\n",
              "      fill: #FFFFFF;\n",
              "    }\n",
              "  </style>\n",
              "\n",
              "      <script>\n",
              "        const buttonEl =\n",
              "          document.querySelector('#df-d6eaf08b-6c80-4b1f-ac8d-ae9733baaf99 button.colab-df-convert');\n",
              "        buttonEl.style.display =\n",
              "          google.colab.kernel.accessAllowed ? 'block' : 'none';\n",
              "\n",
              "        async function convertToInteractive(key) {\n",
              "          const element = document.querySelector('#df-d6eaf08b-6c80-4b1f-ac8d-ae9733baaf99');\n",
              "          const dataTable =\n",
              "            await google.colab.kernel.invokeFunction('convertToInteractive',\n",
              "                                                     [key], {});\n",
              "          if (!dataTable) return;\n",
              "\n",
              "          const docLinkHtml = 'Like what you see? Visit the ' +\n",
              "            '<a target=\"_blank\" href=https://colab.research.google.com/notebooks/data_table.ipynb>data table notebook</a>'\n",
              "            + ' to learn more about interactive tables.';\n",
              "          element.innerHTML = '';\n",
              "          dataTable['output_type'] = 'display_data';\n",
              "          await google.colab.output.renderOutput(dataTable, element);\n",
              "          const docLink = document.createElement('div');\n",
              "          docLink.innerHTML = docLinkHtml;\n",
              "          element.appendChild(docLink);\n",
              "        }\n",
              "      </script>\n",
              "    </div>\n",
              "  </div>\n",
              "  "
            ]
          },
          "metadata": {},
          "execution_count": 9
        }
      ]
    },
    {
      "cell_type": "markdown",
      "source": [
        "## Eficifent FS"
      ],
      "metadata": {
        "id": "bMCGHz9Fem3l"
      }
    },
    {
      "cell_type": "code",
      "source": [
        "from scipy.io import arff\n",
        "import pandas as pd\n",
        "\n",
        "data = arff.loadarff('/content/gdrive/MyDrive/ml-bgu/datasets/EfficientFS/pone.0202167.s015.arff')\n",
        "df = pd.DataFrame(data[0])\n",
        "df.head()\n"
      ],
      "metadata": {
        "colab": {
          "base_uri": "https://localhost:8080/",
          "height": 334
        },
        "id": "HzMGMCoZepoX",
        "outputId": "a38cf5dd-af7a-4bdd-c1fa-83fa36008100"
      },
      "execution_count": 13,
      "outputs": [
        {
          "output_type": "execute_result",
          "data": {
            "text/plain": [
              "   MZ-7.86E-05  MZ2.18E-07  MZ9.60E-05  MZ0.000366014  MZ0.000810195  \\\n",
              "0     0.494626    0.263735    0.321841       0.220934       0.297622   \n",
              "1     0.258063    0.406593    0.321841       0.069771       0.333335   \n",
              "2     0.537636    0.032966    0.321841       0.209307       0.404762   \n",
              "3     0.000000    0.395605    0.310347       0.197673       0.404762   \n",
              "4     0.526884    0.395605    0.367817       0.383719       0.488099   \n",
              "\n",
              "   MZ0.001428564  MZ0.002221123  MZ0.003187869  MZ0.004328805  MZ0.005643929  \\\n",
              "0       0.316458       0.154763       0.223685       0.304346       0.241757   \n",
              "1       0.354432       0.321431       0.144740       0.260869       0.142853   \n",
              "2       0.113927       0.369049       0.223685       0.536231       0.131865   \n",
              "3       0.455701       0.416666       0.210527       0.420292       0.274723   \n",
              "4       0.392405       0.238094       0.500000       0.362316       0.274723   \n",
              "\n",
              "   ...  MZ19974.404  MZ19977.042  MZ19979.68  MZ19982.319  MZ19984.957  \\\n",
              "0  ...     0.483622     0.449296    0.449296     0.449296     0.449296   \n",
              "1  ...     0.631765     0.619718    0.619718     0.619718     0.619718   \n",
              "2  ...     0.038462     0.035918    0.035918     0.035918     0.035918   \n",
              "3  ...     0.497864     0.486621    0.486621     0.486621     0.486621   \n",
              "4  ...     0.267096     0.251408    0.251408     0.251408     0.251408   \n",
              "\n",
              "   MZ19987.596  MZ19990.235  MZ19992.874  MZ19995.513      Class  \n",
              "0     0.449296     0.449296     0.449296     0.449296  b'Normal'  \n",
              "1     0.619718     0.619718     0.619718     0.619718  b'Normal'  \n",
              "2     0.035918     0.035918     0.035918     0.035918  b'Normal'  \n",
              "3     0.486621     0.486621     0.486621     0.486621  b'Normal'  \n",
              "4     0.251408     0.251408     0.251408     0.251408  b'Normal'  \n",
              "\n",
              "[5 rows x 15155 columns]"
            ],
            "text/html": [
              "\n",
              "  <div id=\"df-c474ccea-5f6b-41e9-8b4d-e1362b3f91b0\">\n",
              "    <div class=\"colab-df-container\">\n",
              "      <div>\n",
              "<style scoped>\n",
              "    .dataframe tbody tr th:only-of-type {\n",
              "        vertical-align: middle;\n",
              "    }\n",
              "\n",
              "    .dataframe tbody tr th {\n",
              "        vertical-align: top;\n",
              "    }\n",
              "\n",
              "    .dataframe thead th {\n",
              "        text-align: right;\n",
              "    }\n",
              "</style>\n",
              "<table border=\"1\" class=\"dataframe\">\n",
              "  <thead>\n",
              "    <tr style=\"text-align: right;\">\n",
              "      <th></th>\n",
              "      <th>MZ-7.86E-05</th>\n",
              "      <th>MZ2.18E-07</th>\n",
              "      <th>MZ9.60E-05</th>\n",
              "      <th>MZ0.000366014</th>\n",
              "      <th>MZ0.000810195</th>\n",
              "      <th>MZ0.001428564</th>\n",
              "      <th>MZ0.002221123</th>\n",
              "      <th>MZ0.003187869</th>\n",
              "      <th>MZ0.004328805</th>\n",
              "      <th>MZ0.005643929</th>\n",
              "      <th>...</th>\n",
              "      <th>MZ19974.404</th>\n",
              "      <th>MZ19977.042</th>\n",
              "      <th>MZ19979.68</th>\n",
              "      <th>MZ19982.319</th>\n",
              "      <th>MZ19984.957</th>\n",
              "      <th>MZ19987.596</th>\n",
              "      <th>MZ19990.235</th>\n",
              "      <th>MZ19992.874</th>\n",
              "      <th>MZ19995.513</th>\n",
              "      <th>Class</th>\n",
              "    </tr>\n",
              "  </thead>\n",
              "  <tbody>\n",
              "    <tr>\n",
              "      <th>0</th>\n",
              "      <td>0.494626</td>\n",
              "      <td>0.263735</td>\n",
              "      <td>0.321841</td>\n",
              "      <td>0.220934</td>\n",
              "      <td>0.297622</td>\n",
              "      <td>0.316458</td>\n",
              "      <td>0.154763</td>\n",
              "      <td>0.223685</td>\n",
              "      <td>0.304346</td>\n",
              "      <td>0.241757</td>\n",
              "      <td>...</td>\n",
              "      <td>0.483622</td>\n",
              "      <td>0.449296</td>\n",
              "      <td>0.449296</td>\n",
              "      <td>0.449296</td>\n",
              "      <td>0.449296</td>\n",
              "      <td>0.449296</td>\n",
              "      <td>0.449296</td>\n",
              "      <td>0.449296</td>\n",
              "      <td>0.449296</td>\n",
              "      <td>b'Normal'</td>\n",
              "    </tr>\n",
              "    <tr>\n",
              "      <th>1</th>\n",
              "      <td>0.258063</td>\n",
              "      <td>0.406593</td>\n",
              "      <td>0.321841</td>\n",
              "      <td>0.069771</td>\n",
              "      <td>0.333335</td>\n",
              "      <td>0.354432</td>\n",
              "      <td>0.321431</td>\n",
              "      <td>0.144740</td>\n",
              "      <td>0.260869</td>\n",
              "      <td>0.142853</td>\n",
              "      <td>...</td>\n",
              "      <td>0.631765</td>\n",
              "      <td>0.619718</td>\n",
              "      <td>0.619718</td>\n",
              "      <td>0.619718</td>\n",
              "      <td>0.619718</td>\n",
              "      <td>0.619718</td>\n",
              "      <td>0.619718</td>\n",
              "      <td>0.619718</td>\n",
              "      <td>0.619718</td>\n",
              "      <td>b'Normal'</td>\n",
              "    </tr>\n",
              "    <tr>\n",
              "      <th>2</th>\n",
              "      <td>0.537636</td>\n",
              "      <td>0.032966</td>\n",
              "      <td>0.321841</td>\n",
              "      <td>0.209307</td>\n",
              "      <td>0.404762</td>\n",
              "      <td>0.113927</td>\n",
              "      <td>0.369049</td>\n",
              "      <td>0.223685</td>\n",
              "      <td>0.536231</td>\n",
              "      <td>0.131865</td>\n",
              "      <td>...</td>\n",
              "      <td>0.038462</td>\n",
              "      <td>0.035918</td>\n",
              "      <td>0.035918</td>\n",
              "      <td>0.035918</td>\n",
              "      <td>0.035918</td>\n",
              "      <td>0.035918</td>\n",
              "      <td>0.035918</td>\n",
              "      <td>0.035918</td>\n",
              "      <td>0.035918</td>\n",
              "      <td>b'Normal'</td>\n",
              "    </tr>\n",
              "    <tr>\n",
              "      <th>3</th>\n",
              "      <td>0.000000</td>\n",
              "      <td>0.395605</td>\n",
              "      <td>0.310347</td>\n",
              "      <td>0.197673</td>\n",
              "      <td>0.404762</td>\n",
              "      <td>0.455701</td>\n",
              "      <td>0.416666</td>\n",
              "      <td>0.210527</td>\n",
              "      <td>0.420292</td>\n",
              "      <td>0.274723</td>\n",
              "      <td>...</td>\n",
              "      <td>0.497864</td>\n",
              "      <td>0.486621</td>\n",
              "      <td>0.486621</td>\n",
              "      <td>0.486621</td>\n",
              "      <td>0.486621</td>\n",
              "      <td>0.486621</td>\n",
              "      <td>0.486621</td>\n",
              "      <td>0.486621</td>\n",
              "      <td>0.486621</td>\n",
              "      <td>b'Normal'</td>\n",
              "    </tr>\n",
              "    <tr>\n",
              "      <th>4</th>\n",
              "      <td>0.526884</td>\n",
              "      <td>0.395605</td>\n",
              "      <td>0.367817</td>\n",
              "      <td>0.383719</td>\n",
              "      <td>0.488099</td>\n",
              "      <td>0.392405</td>\n",
              "      <td>0.238094</td>\n",
              "      <td>0.500000</td>\n",
              "      <td>0.362316</td>\n",
              "      <td>0.274723</td>\n",
              "      <td>...</td>\n",
              "      <td>0.267096</td>\n",
              "      <td>0.251408</td>\n",
              "      <td>0.251408</td>\n",
              "      <td>0.251408</td>\n",
              "      <td>0.251408</td>\n",
              "      <td>0.251408</td>\n",
              "      <td>0.251408</td>\n",
              "      <td>0.251408</td>\n",
              "      <td>0.251408</td>\n",
              "      <td>b'Normal'</td>\n",
              "    </tr>\n",
              "  </tbody>\n",
              "</table>\n",
              "<p>5 rows × 15155 columns</p>\n",
              "</div>\n",
              "      <button class=\"colab-df-convert\" onclick=\"convertToInteractive('df-c474ccea-5f6b-41e9-8b4d-e1362b3f91b0')\"\n",
              "              title=\"Convert this dataframe to an interactive table.\"\n",
              "              style=\"display:none;\">\n",
              "        \n",
              "  <svg xmlns=\"http://www.w3.org/2000/svg\" height=\"24px\"viewBox=\"0 0 24 24\"\n",
              "       width=\"24px\">\n",
              "    <path d=\"M0 0h24v24H0V0z\" fill=\"none\"/>\n",
              "    <path d=\"M18.56 5.44l.94 2.06.94-2.06 2.06-.94-2.06-.94-.94-2.06-.94 2.06-2.06.94zm-11 1L8.5 8.5l.94-2.06 2.06-.94-2.06-.94L8.5 2.5l-.94 2.06-2.06.94zm10 10l.94 2.06.94-2.06 2.06-.94-2.06-.94-.94-2.06-.94 2.06-2.06.94z\"/><path d=\"M17.41 7.96l-1.37-1.37c-.4-.4-.92-.59-1.43-.59-.52 0-1.04.2-1.43.59L10.3 9.45l-7.72 7.72c-.78.78-.78 2.05 0 2.83L4 21.41c.39.39.9.59 1.41.59.51 0 1.02-.2 1.41-.59l7.78-7.78 2.81-2.81c.8-.78.8-2.07 0-2.86zM5.41 20L4 18.59l7.72-7.72 1.47 1.35L5.41 20z\"/>\n",
              "  </svg>\n",
              "      </button>\n",
              "      \n",
              "  <style>\n",
              "    .colab-df-container {\n",
              "      display:flex;\n",
              "      flex-wrap:wrap;\n",
              "      gap: 12px;\n",
              "    }\n",
              "\n",
              "    .colab-df-convert {\n",
              "      background-color: #E8F0FE;\n",
              "      border: none;\n",
              "      border-radius: 50%;\n",
              "      cursor: pointer;\n",
              "      display: none;\n",
              "      fill: #1967D2;\n",
              "      height: 32px;\n",
              "      padding: 0 0 0 0;\n",
              "      width: 32px;\n",
              "    }\n",
              "\n",
              "    .colab-df-convert:hover {\n",
              "      background-color: #E2EBFA;\n",
              "      box-shadow: 0px 1px 2px rgba(60, 64, 67, 0.3), 0px 1px 3px 1px rgba(60, 64, 67, 0.15);\n",
              "      fill: #174EA6;\n",
              "    }\n",
              "\n",
              "    [theme=dark] .colab-df-convert {\n",
              "      background-color: #3B4455;\n",
              "      fill: #D2E3FC;\n",
              "    }\n",
              "\n",
              "    [theme=dark] .colab-df-convert:hover {\n",
              "      background-color: #434B5C;\n",
              "      box-shadow: 0px 1px 3px 1px rgba(0, 0, 0, 0.15);\n",
              "      filter: drop-shadow(0px 1px 2px rgba(0, 0, 0, 0.3));\n",
              "      fill: #FFFFFF;\n",
              "    }\n",
              "  </style>\n",
              "\n",
              "      <script>\n",
              "        const buttonEl =\n",
              "          document.querySelector('#df-c474ccea-5f6b-41e9-8b4d-e1362b3f91b0 button.colab-df-convert');\n",
              "        buttonEl.style.display =\n",
              "          google.colab.kernel.accessAllowed ? 'block' : 'none';\n",
              "\n",
              "        async function convertToInteractive(key) {\n",
              "          const element = document.querySelector('#df-c474ccea-5f6b-41e9-8b4d-e1362b3f91b0');\n",
              "          const dataTable =\n",
              "            await google.colab.kernel.invokeFunction('convertToInteractive',\n",
              "                                                     [key], {});\n",
              "          if (!dataTable) return;\n",
              "\n",
              "          const docLinkHtml = 'Like what you see? Visit the ' +\n",
              "            '<a target=\"_blank\" href=https://colab.research.google.com/notebooks/data_table.ipynb>data table notebook</a>'\n",
              "            + ' to learn more about interactive tables.';\n",
              "          element.innerHTML = '';\n",
              "          dataTable['output_type'] = 'display_data';\n",
              "          await google.colab.output.renderOutput(dataTable, element);\n",
              "          const docLink = document.createElement('div');\n",
              "          docLink.innerHTML = docLinkHtml;\n",
              "          element.appendChild(docLink);\n",
              "        }\n",
              "      </script>\n",
              "    </div>\n",
              "  </div>\n",
              "  "
            ]
          },
          "metadata": {},
          "execution_count": 13
        }
      ]
    },
    {
      "cell_type": "code",
      "source": [
        "pd.read_csv('/content/gdrive/MyDrive/ml-bgu/datasets/EfficientFS/pone.0202167.s016.csv').head()"
      ],
      "metadata": {
        "colab": {
          "base_uri": "https://localhost:8080/",
          "height": 314
        },
        "id": "D3hD2senfGBj",
        "outputId": "9da00f44-a154-4588-b4ee-62ecea80cdbe"
      },
      "execution_count": 14,
      "outputs": [
        {
          "output_type": "execute_result",
          "data": {
            "text/plain": [
              "    class  AFFX-MurIL2_at   AFFX-MurIL10_at   AFFX-MurIL4_at   AFFX-MurFAS_at  \\\n",
              "0       1             -12                16               37               40   \n",
              "1       1               6                 8               46               46   \n",
              "2       1             -55                33               14               44   \n",
              "3       1             -26                 3              -10               39   \n",
              "4       1             -27                 1                1               18   \n",
              "\n",
              "    AFFX-BioB-5_at   AFFX-BioB-M_at   AFFX-BioB-3_at   AFFX-BioC-5_at  \\\n",
              "0              269              209              197              695   \n",
              "1              261              215              153              676   \n",
              "2              570              535              378             1362   \n",
              "3              273              249              177              632   \n",
              "4              261              251              193              654   \n",
              "\n",
              "    AFFX-BioC-3_at  ...   100_g_at   101_at   102_at   103_at   104_at  \\\n",
              "0              748  ...        232       56       21      228       63   \n",
              "1              658  ...        188       36       27       93       79   \n",
              "2             1400  ...        205       39       20       56       86   \n",
              "3              672  ...        198      100       19       78       61   \n",
              "4              711  ...        187       74       34       26       38   \n",
              "\n",
              "    105_at   106_at   107_at   108_g_at   109_at  \n",
              "0       64      -23      -94        -99      248  \n",
              "1       52       14      -70       -179      129  \n",
              "2       90      -15     -102        -89      117  \n",
              "3        9       16     -117        -64      153  \n",
              "4        7       23      -53        -66      141  \n",
              "\n",
              "[5 rows x 12601 columns]"
            ],
            "text/html": [
              "\n",
              "  <div id=\"df-ef739283-d482-47ac-a568-7a8897037a66\">\n",
              "    <div class=\"colab-df-container\">\n",
              "      <div>\n",
              "<style scoped>\n",
              "    .dataframe tbody tr th:only-of-type {\n",
              "        vertical-align: middle;\n",
              "    }\n",
              "\n",
              "    .dataframe tbody tr th {\n",
              "        vertical-align: top;\n",
              "    }\n",
              "\n",
              "    .dataframe thead th {\n",
              "        text-align: right;\n",
              "    }\n",
              "</style>\n",
              "<table border=\"1\" class=\"dataframe\">\n",
              "  <thead>\n",
              "    <tr style=\"text-align: right;\">\n",
              "      <th></th>\n",
              "      <th>class</th>\n",
              "      <th>AFFX-MurIL2_at</th>\n",
              "      <th>AFFX-MurIL10_at</th>\n",
              "      <th>AFFX-MurIL4_at</th>\n",
              "      <th>AFFX-MurFAS_at</th>\n",
              "      <th>AFFX-BioB-5_at</th>\n",
              "      <th>AFFX-BioB-M_at</th>\n",
              "      <th>AFFX-BioB-3_at</th>\n",
              "      <th>AFFX-BioC-5_at</th>\n",
              "      <th>AFFX-BioC-3_at</th>\n",
              "      <th>...</th>\n",
              "      <th>100_g_at</th>\n",
              "      <th>101_at</th>\n",
              "      <th>102_at</th>\n",
              "      <th>103_at</th>\n",
              "      <th>104_at</th>\n",
              "      <th>105_at</th>\n",
              "      <th>106_at</th>\n",
              "      <th>107_at</th>\n",
              "      <th>108_g_at</th>\n",
              "      <th>109_at</th>\n",
              "    </tr>\n",
              "  </thead>\n",
              "  <tbody>\n",
              "    <tr>\n",
              "      <th>0</th>\n",
              "      <td>1</td>\n",
              "      <td>-12</td>\n",
              "      <td>16</td>\n",
              "      <td>37</td>\n",
              "      <td>40</td>\n",
              "      <td>269</td>\n",
              "      <td>209</td>\n",
              "      <td>197</td>\n",
              "      <td>695</td>\n",
              "      <td>748</td>\n",
              "      <td>...</td>\n",
              "      <td>232</td>\n",
              "      <td>56</td>\n",
              "      <td>21</td>\n",
              "      <td>228</td>\n",
              "      <td>63</td>\n",
              "      <td>64</td>\n",
              "      <td>-23</td>\n",
              "      <td>-94</td>\n",
              "      <td>-99</td>\n",
              "      <td>248</td>\n",
              "    </tr>\n",
              "    <tr>\n",
              "      <th>1</th>\n",
              "      <td>1</td>\n",
              "      <td>6</td>\n",
              "      <td>8</td>\n",
              "      <td>46</td>\n",
              "      <td>46</td>\n",
              "      <td>261</td>\n",
              "      <td>215</td>\n",
              "      <td>153</td>\n",
              "      <td>676</td>\n",
              "      <td>658</td>\n",
              "      <td>...</td>\n",
              "      <td>188</td>\n",
              "      <td>36</td>\n",
              "      <td>27</td>\n",
              "      <td>93</td>\n",
              "      <td>79</td>\n",
              "      <td>52</td>\n",
              "      <td>14</td>\n",
              "      <td>-70</td>\n",
              "      <td>-179</td>\n",
              "      <td>129</td>\n",
              "    </tr>\n",
              "    <tr>\n",
              "      <th>2</th>\n",
              "      <td>1</td>\n",
              "      <td>-55</td>\n",
              "      <td>33</td>\n",
              "      <td>14</td>\n",
              "      <td>44</td>\n",
              "      <td>570</td>\n",
              "      <td>535</td>\n",
              "      <td>378</td>\n",
              "      <td>1362</td>\n",
              "      <td>1400</td>\n",
              "      <td>...</td>\n",
              "      <td>205</td>\n",
              "      <td>39</td>\n",
              "      <td>20</td>\n",
              "      <td>56</td>\n",
              "      <td>86</td>\n",
              "      <td>90</td>\n",
              "      <td>-15</td>\n",
              "      <td>-102</td>\n",
              "      <td>-89</td>\n",
              "      <td>117</td>\n",
              "    </tr>\n",
              "    <tr>\n",
              "      <th>3</th>\n",
              "      <td>1</td>\n",
              "      <td>-26</td>\n",
              "      <td>3</td>\n",
              "      <td>-10</td>\n",
              "      <td>39</td>\n",
              "      <td>273</td>\n",
              "      <td>249</td>\n",
              "      <td>177</td>\n",
              "      <td>632</td>\n",
              "      <td>672</td>\n",
              "      <td>...</td>\n",
              "      <td>198</td>\n",
              "      <td>100</td>\n",
              "      <td>19</td>\n",
              "      <td>78</td>\n",
              "      <td>61</td>\n",
              "      <td>9</td>\n",
              "      <td>16</td>\n",
              "      <td>-117</td>\n",
              "      <td>-64</td>\n",
              "      <td>153</td>\n",
              "    </tr>\n",
              "    <tr>\n",
              "      <th>4</th>\n",
              "      <td>1</td>\n",
              "      <td>-27</td>\n",
              "      <td>1</td>\n",
              "      <td>1</td>\n",
              "      <td>18</td>\n",
              "      <td>261</td>\n",
              "      <td>251</td>\n",
              "      <td>193</td>\n",
              "      <td>654</td>\n",
              "      <td>711</td>\n",
              "      <td>...</td>\n",
              "      <td>187</td>\n",
              "      <td>74</td>\n",
              "      <td>34</td>\n",
              "      <td>26</td>\n",
              "      <td>38</td>\n",
              "      <td>7</td>\n",
              "      <td>23</td>\n",
              "      <td>-53</td>\n",
              "      <td>-66</td>\n",
              "      <td>141</td>\n",
              "    </tr>\n",
              "  </tbody>\n",
              "</table>\n",
              "<p>5 rows × 12601 columns</p>\n",
              "</div>\n",
              "      <button class=\"colab-df-convert\" onclick=\"convertToInteractive('df-ef739283-d482-47ac-a568-7a8897037a66')\"\n",
              "              title=\"Convert this dataframe to an interactive table.\"\n",
              "              style=\"display:none;\">\n",
              "        \n",
              "  <svg xmlns=\"http://www.w3.org/2000/svg\" height=\"24px\"viewBox=\"0 0 24 24\"\n",
              "       width=\"24px\">\n",
              "    <path d=\"M0 0h24v24H0V0z\" fill=\"none\"/>\n",
              "    <path d=\"M18.56 5.44l.94 2.06.94-2.06 2.06-.94-2.06-.94-.94-2.06-.94 2.06-2.06.94zm-11 1L8.5 8.5l.94-2.06 2.06-.94-2.06-.94L8.5 2.5l-.94 2.06-2.06.94zm10 10l.94 2.06.94-2.06 2.06-.94-2.06-.94-.94-2.06-.94 2.06-2.06.94z\"/><path d=\"M17.41 7.96l-1.37-1.37c-.4-.4-.92-.59-1.43-.59-.52 0-1.04.2-1.43.59L10.3 9.45l-7.72 7.72c-.78.78-.78 2.05 0 2.83L4 21.41c.39.39.9.59 1.41.59.51 0 1.02-.2 1.41-.59l7.78-7.78 2.81-2.81c.8-.78.8-2.07 0-2.86zM5.41 20L4 18.59l7.72-7.72 1.47 1.35L5.41 20z\"/>\n",
              "  </svg>\n",
              "      </button>\n",
              "      \n",
              "  <style>\n",
              "    .colab-df-container {\n",
              "      display:flex;\n",
              "      flex-wrap:wrap;\n",
              "      gap: 12px;\n",
              "    }\n",
              "\n",
              "    .colab-df-convert {\n",
              "      background-color: #E8F0FE;\n",
              "      border: none;\n",
              "      border-radius: 50%;\n",
              "      cursor: pointer;\n",
              "      display: none;\n",
              "      fill: #1967D2;\n",
              "      height: 32px;\n",
              "      padding: 0 0 0 0;\n",
              "      width: 32px;\n",
              "    }\n",
              "\n",
              "    .colab-df-convert:hover {\n",
              "      background-color: #E2EBFA;\n",
              "      box-shadow: 0px 1px 2px rgba(60, 64, 67, 0.3), 0px 1px 3px 1px rgba(60, 64, 67, 0.15);\n",
              "      fill: #174EA6;\n",
              "    }\n",
              "\n",
              "    [theme=dark] .colab-df-convert {\n",
              "      background-color: #3B4455;\n",
              "      fill: #D2E3FC;\n",
              "    }\n",
              "\n",
              "    [theme=dark] .colab-df-convert:hover {\n",
              "      background-color: #434B5C;\n",
              "      box-shadow: 0px 1px 3px 1px rgba(0, 0, 0, 0.15);\n",
              "      filter: drop-shadow(0px 1px 2px rgba(0, 0, 0, 0.3));\n",
              "      fill: #FFFFFF;\n",
              "    }\n",
              "  </style>\n",
              "\n",
              "      <script>\n",
              "        const buttonEl =\n",
              "          document.querySelector('#df-ef739283-d482-47ac-a568-7a8897037a66 button.colab-df-convert');\n",
              "        buttonEl.style.display =\n",
              "          google.colab.kernel.accessAllowed ? 'block' : 'none';\n",
              "\n",
              "        async function convertToInteractive(key) {\n",
              "          const element = document.querySelector('#df-ef739283-d482-47ac-a568-7a8897037a66');\n",
              "          const dataTable =\n",
              "            await google.colab.kernel.invokeFunction('convertToInteractive',\n",
              "                                                     [key], {});\n",
              "          if (!dataTable) return;\n",
              "\n",
              "          const docLinkHtml = 'Like what you see? Visit the ' +\n",
              "            '<a target=\"_blank\" href=https://colab.research.google.com/notebooks/data_table.ipynb>data table notebook</a>'\n",
              "            + ' to learn more about interactive tables.';\n",
              "          element.innerHTML = '';\n",
              "          dataTable['output_type'] = 'display_data';\n",
              "          await google.colab.output.renderOutput(dataTable, element);\n",
              "          const docLink = document.createElement('div');\n",
              "          docLink.innerHTML = docLinkHtml;\n",
              "          element.appendChild(docLink);\n",
              "        }\n",
              "      </script>\n",
              "    </div>\n",
              "  </div>\n",
              "  "
            ]
          },
          "metadata": {},
          "execution_count": 14
        }
      ]
    },
    {
      "cell_type": "markdown",
      "source": [
        "## microbiome data processing"
      ],
      "metadata": {
        "id": "GMY5hN5G5p0D"
      }
    },
    {
      "cell_type": "code",
      "source": [
        "dir_path = '/content/gdrive/MyDrive/ml-bgu/datasets/microbiome_data'\n",
        "\n",
        "for ds_name in ['bacteremia',  'bushman_cafe', 'david', 'kostic', 'claesson', 'turnbaugh']:\n",
        "  print(f'ds_name={ds_name}')\n",
        "  inputs_df = pd.read_csv(f'{dir_path}/{ds_name}/gg/otutable.txt', delimiter = \"\\t\")\n",
        "  output_df = pd.read_csv(f'{dir_path}/{ds_name}/task.txt', delimiter = \"\\t\")\n",
        "  df = inputs_df.join(output_df, lsuffix='i')\n",
        "  le = preprocessing.LabelEncoder()\n",
        "  class_column = le.fit_transform(df['Var'])\n",
        "  final_df = preprocess(df.drop(columns=['#SampleID', 'Var']).to_numpy(), class_column)\n",
        "  final_df.to_csv(f'/content/gdrive/MyDrive/ml-bgu/datasets_after_preprocessing/microbiome_data/{ds_name}.csv')\n"
      ],
      "metadata": {
        "colab": {
          "base_uri": "https://localhost:8080/"
        },
        "id": "1U_2ir5b52bM",
        "outputId": "127c5a48-95a3-494c-aca8-78e6e105f03e"
      },
      "execution_count": 204,
      "outputs": [
        {
          "output_type": "stream",
          "name": "stdout",
          "text": [
            "ds_name=bushman_cafe\n"
          ]
        }
      ]
    },
    {
      "cell_type": "markdown",
      "source": [
        "### validation that everything was good"
      ],
      "metadata": {
        "id": "epSxDh4zvo_D"
      }
    },
    {
      "cell_type": "code",
      "source": [
        "df = pd.read_csv('/content/gdrive/MyDrive/ml-bgu/datasets_after_preprocessing/Misc/GDS3610.csv')\n",
        "X = df.drop(columns=['y'])\n",
        "y = df['y']\n",
        "import numpy as np\n",
        "from sklearn.pipeline import make_pipeline\n",
        "from sklearn.preprocessing import StandardScaler\n",
        "from sklearn.model_selection import cross_val_score\n",
        "from sklearn.svm import SVC\n",
        "\n",
        "clf = SVC(gamma='auto')\n",
        "cross_val_score(clf, X, y.ravel(), cv=3)\n"
      ],
      "metadata": {
        "colab": {
          "base_uri": "https://localhost:8080/"
        },
        "id": "SrcmCOHJvrKL",
        "outputId": "1f73034f-d848-405b-eb9b-d46f4c9cc45f"
      },
      "execution_count": 11,
      "outputs": [
        {
          "output_type": "execute_result",
          "data": {
            "text/plain": [
              "array([0.9       , 0.88888889, 0.88888889])"
            ]
          },
          "metadata": {},
          "execution_count": 11
        }
      ]
    },
    {
      "cell_type": "code",
      "source": [
        "t = ['Gevers2014_IBD_ileum', 'Huttenhower2012_HMP.BS.5', 'Morgan2012_IBD.3']\n",
        "for t1 in t: \n",
        "  t2 = pd.read_csv(f'/content/gdrive/MyDrive/ml-bgu/datasets_after_preprocessing/mAML_benchmark_datasets/{t1}.csv')\n",
        "  print(t2.shape) "
      ],
      "metadata": {
        "colab": {
          "base_uri": "https://localhost:8080/"
        },
        "id": "O9-WwENjtquf",
        "outputId": "a370e06f-1ff6-423c-f23b-164025dc46d1"
      },
      "execution_count": 57,
      "outputs": [
        {
          "output_type": "stream",
          "name": "stdout",
          "text": [
            "(140, 299)\n",
            "(1529, 971)\n",
            "(128, 2063)\n"
          ]
        }
      ]
    },
    {
      "cell_type": "code",
      "source": [
        "t = ['pone.0246039.s001', 'journal.pone.0246039.s005', 'journal.pone.0246039.s002', 'GDS6063', 'GDS3610'] \n",
        "for t1 in t: \n",
        "  t2 = pd.read_csv(f'/content/gdrive/MyDrive/ml-bgu/datasets_after_preprocessing/Misc/{t1}.csv')\n",
        "  path = f'/content/gdrive/MyDrive/ml-bgu/datasets_after_preprocessing/Misc/{t1}.csv'\n",
        "  print(path, 'shape=', t2.shape) "
      ],
      "metadata": {
        "colab": {
          "base_uri": "https://localhost:8080/"
        },
        "id": "t3mjrKD-zaIv",
        "outputId": "78820512-1a60-4102-b762-20ef15dd7d40"
      },
      "execution_count": 18,
      "outputs": [
        {
          "output_type": "stream",
          "name": "stdout",
          "text": [
            "/content/gdrive/MyDrive/ml-bgu/datasets_after_preprocessing/Misc/pone.0246039.s001.csv shape= (72, 10715)\n",
            "/content/gdrive/MyDrive/ml-bgu/datasets_after_preprocessing/Misc/journal.pone.0246039.s005.csv shape= (60, 21389)\n",
            "/content/gdrive/MyDrive/ml-bgu/datasets_after_preprocessing/Misc/journal.pone.0246039.s002.csv shape= (62, 6002)\n",
            "/content/gdrive/MyDrive/ml-bgu/datasets_after_preprocessing/Misc/GDS6063.csv shape= (10, 49154)\n",
            "/content/gdrive/MyDrive/ml-bgu/datasets_after_preprocessing/Misc/GDS3610.csv shape= (28, 42185)\n"
          ]
        }
      ]
    },
    {
      "cell_type": "code",
      "source": [
        "import glob\n",
        "ds_paths = glob.glob(\"/content/gdrive/MyDrive/ml-bgu/datasets_after_preprocessing/scikit-feature/*.csv\", recursive=True)\n",
        "for t1 in ds_paths: \n",
        "  t2 = pd.read_csv(t1)\n",
        "  print(f'ds={t1}, shape={t2.shape}') "
      ],
      "metadata": {
        "colab": {
          "base_uri": "https://localhost:8080/"
        },
        "id": "r5h4U0x14Iru",
        "outputId": "d4ecdd48-4345-4f2a-a185-463ef715df30"
      },
      "execution_count": 42,
      "outputs": [
        {
          "output_type": "stream",
          "name": "stdout",
          "text": [
            "ds=/content/gdrive/MyDrive/ml-bgu/datasets_after_preprocessing/scikit-feature/colon.csv, shape=(62, 6002)\n",
            "ds=/content/gdrive/MyDrive/ml-bgu/datasets_after_preprocessing/scikit-feature/Yale.csv, shape=(165, 3074)\n",
            "ds=/content/gdrive/MyDrive/ml-bgu/datasets_after_preprocessing/scikit-feature/GLIOMA.csv, shape=(50, 13304)\n",
            "ds=/content/gdrive/MyDrive/ml-bgu/datasets_after_preprocessing/scikit-feature/arcene.csv, shape=(200, 29963)\n",
            "ds=/content/gdrive/MyDrive/ml-bgu/datasets_after_preprocessing/scikit-feature/Carcinom.csv, shape=(174, 27548)\n",
            "ds=/content/gdrive/MyDrive/ml-bgu/datasets_after_preprocessing/scikit-feature/madelon.csv, shape=(2600, 1502)\n",
            "ds=/content/gdrive/MyDrive/ml-bgu/datasets_after_preprocessing/scikit-feature/ORL.csv, shape=(400, 3074)\n",
            "ds=/content/gdrive/MyDrive/ml-bgu/datasets_after_preprocessing/scikit-feature/leukemia.csv, shape=(72, 21212)\n",
            "ds=/content/gdrive/MyDrive/ml-bgu/datasets_after_preprocessing/scikit-feature/PCMAC.csv, shape=(1943, 9869)\n",
            "ds=/content/gdrive/MyDrive/ml-bgu/datasets_after_preprocessing/scikit-feature/pixraw10P.csv, shape=(100, 30002)\n",
            "ds=/content/gdrive/MyDrive/ml-bgu/datasets_after_preprocessing/scikit-feature/lung_small.csv, shape=(73, 977)\n",
            "ds=/content/gdrive/MyDrive/ml-bgu/datasets_after_preprocessing/scikit-feature/lymphoma.csv, shape=(96, 12080)\n",
            "ds=/content/gdrive/MyDrive/ml-bgu/datasets_after_preprocessing/scikit-feature/nci9.csv, shape=(60, 29138)\n",
            "ds=/content/gdrive/MyDrive/ml-bgu/datasets_after_preprocessing/scikit-feature/orlraws10P.csv, shape=(100, 30914)\n",
            "ds=/content/gdrive/MyDrive/ml-bgu/datasets_after_preprocessing/scikit-feature/warpAR10P.csv, shape=(130, 7202)\n",
            "ds=/content/gdrive/MyDrive/ml-bgu/datasets_after_preprocessing/scikit-feature/RELATHE.csv, shape=(1427, 12968)\n",
            "ds=/content/gdrive/MyDrive/ml-bgu/datasets_after_preprocessing/scikit-feature/Prostate-GE.csv, shape=(102, 17900)\n"
          ]
        }
      ]
    },
    {
      "cell_type": "code",
      "source": [
        "import glob\n",
        "ds_paths = glob.glob(\"/content/gdrive/MyDrive/ml-bgu/datasets/microbiomic data/*.csv\", recursive=True)\n",
        "for t1 in ds_paths: \n",
        "  t2 = pd.read_csv(t1)\n",
        "  print(f'ds={t1}, shape={t2.shape}') "
      ],
      "metadata": {
        "colab": {
          "base_uri": "https://localhost:8080/"
        },
        "id": "bVKovaJ9sv5_",
        "outputId": "725798b3-68f5-4f80-d726-8c652cc73ce5"
      },
      "execution_count": 98,
      "outputs": [
        {
          "output_type": "stream",
          "name": "stdout",
          "text": [
            "ds=/content/gdrive/MyDrive/ml-bgu/datasets/microbiomic data/FSH.csv, shape=(1217, 99)\n",
            "ds=/content/gdrive/MyDrive/ml-bgu/datasets/microbiomic data/PDX.csv, shape=(74018, 201)\n",
            "ds=/content/gdrive/MyDrive/ml-bgu/datasets/microbiomic data/PBS.csv, shape=(74018, 201)\n",
            "ds=/content/gdrive/MyDrive/ml-bgu/datasets/microbiomic data/CSS.csv, shape=(4793, 358)\n",
            "ds=/content/gdrive/MyDrive/ml-bgu/datasets/microbiomic data/CBH.csv, shape=(6979, 553)\n",
            "ds=/content/gdrive/MyDrive/ml-bgu/datasets/microbiomic data/CS.csv, shape=(2543, 141)\n",
            "ds=/content/gdrive/MyDrive/ml-bgu/datasets/microbiomic data/FS.csv, shape=(1217, 105)\n",
            "ds=/content/gdrive/MyDrive/ml-bgu/datasets/microbiomic data/BP.csv, shape=(13503, 152)\n"
          ]
        }
      ]
    },
    {
      "cell_type": "code",
      "source": [
        "import glob\n",
        "ds_paths = glob.glob(\"/content/gdrive/MyDrive/ml-bgu/datasets/scikit-feature/*.csv\", recursive=True)\n",
        "for t1 in ds_paths: \n",
        "  t2 = pd.read_csv(t1)\n",
        "  print(f'ds={t1}, shape={t2.shape}') "
      ],
      "metadata": {
        "id": "vQATFNHT51FW"
      },
      "execution_count": 32,
      "outputs": []
    },
    {
      "cell_type": "code",
      "source": [
        "import glob\n",
        "ds_paths = glob.glob(\"/content/gdrive/MyDrive/ml-bgu/datasets_after_preprocessing/Datamicroarray/*.csv\", recursive=True)\n",
        "for t1 in ds_paths: \n",
        "  t2 = pd.read_csv(t1)\n",
        "  print(f'ds={t1}, shape={t2.shape}') "
      ],
      "metadata": {
        "colab": {
          "base_uri": "https://localhost:8080/"
        },
        "id": "7CLXIMHC4ptq",
        "outputId": "c19b7712-394a-42a9-c5f4-45a432a13140"
      },
      "execution_count": 58,
      "outputs": [
        {
          "output_type": "stream",
          "name": "stdout",
          "text": [
            "ds=/content/gdrive/MyDrive/ml-bgu/datasets_after_preprocessing/Datamicroarray/alon.csv, shape=(62, 6002)\n",
            "ds=/content/gdrive/MyDrive/ml-bgu/datasets_after_preprocessing/Datamicroarray/christensen.csv, shape=(217, 4241)\n",
            "ds=/content/gdrive/MyDrive/ml-bgu/datasets_after_preprocessing/Datamicroarray/khan.csv, shape=(63, 6926)\n",
            "ds=/content/gdrive/MyDrive/ml-bgu/datasets_after_preprocessing/Datamicroarray/sorlie.csv, shape=(85, 1370)\n",
            "ds=/content/gdrive/MyDrive/ml-bgu/datasets_after_preprocessing/Datamicroarray/west.csv, shape=(49, 21389)\n"
          ]
        }
      ]
    },
    {
      "cell_type": "code",
      "source": [
        "import glob\n",
        "ds_paths = glob.glob(\"/content/gdrive/MyDrive/ml-bgu/datasets_after_preprocessing/mAML_benchmark_datasets/*.csv\", recursive=True)\n",
        "for t1 in ds_paths: \n",
        "  t2 = pd.read_csv(t1)\n",
        "  if t2.shape[0]>100:\n",
        "    print(f'ds={t1}, shape={t2.shape}') "
      ],
      "metadata": {
        "colab": {
          "base_uri": "https://localhost:8080/"
        },
        "id": "tgMaWL3JyG1D",
        "outputId": "79c949cc-4c2a-4e26-dd0c-91bfc87e3fb2"
      },
      "execution_count": 13,
      "outputs": [
        {
          "output_type": "stream",
          "name": "stdout",
          "text": [
            "ds=/content/gdrive/MyDrive/ml-bgu/datasets_after_preprocessing/mAML_benchmark_datasets/Morgan2012_IBD.3.csv, shape=(128, 2063)\n",
            "ds=/content/gdrive/MyDrive/ml-bgu/datasets_after_preprocessing/mAML_benchmark_datasets/Qin2012_Diabetes.csv, shape=(124, 35642)\n",
            "ds=/content/gdrive/MyDrive/ml-bgu/datasets_after_preprocessing/mAML_benchmark_datasets/Ravel2011_Vaginal.csv, shape=(342, 1529)\n",
            "ds=/content/gdrive/MyDrive/ml-bgu/datasets_after_preprocessing/mAML_benchmark_datasets/Costello2009_Subject.7.csv, shape=(140, 7631)\n",
            "ds=/content/gdrive/MyDrive/ml-bgu/datasets_after_preprocessing/mAML_benchmark_datasets/Gevers2014_IBD_ileum (1).csv, shape=(140, 299)\n",
            "ds=/content/gdrive/MyDrive/ml-bgu/datasets_after_preprocessing/mAML_benchmark_datasets/Yang2010_EsophagitisPDX.4.csv, shape=(200, 49151)\n",
            "ds=/content/gdrive/MyDrive/ml-bgu/datasets_after_preprocessing/mAML_benchmark_datasets/Gevers2014_IBD_ileum.csv, shape=(140, 299)\n",
            "ds=/content/gdrive/MyDrive/ml-bgu/datasets_after_preprocessing/mAML_benchmark_datasets/Huttenhower2012_HMP.BS.5.csv, shape=(1529, 971)\n",
            "ds=/content/gdrive/MyDrive/ml-bgu/datasets_after_preprocessing/mAML_benchmark_datasets/Gevers2014_IBD_rectum.csv, shape=(160, 326)\n"
          ]
        }
      ]
    },
    {
      "cell_type": "code",
      "source": [
        "import glob\n",
        "ds_paths = glob.glob(\"/content/gdrive/MyDrive/ml-bgu/datasets_after_preprocessing/microbiome_data/*.csv\", recursive=True)\n",
        "paths = []\n",
        "for t1 in ds_paths: \n",
        "  t2 = pd.read_csv(t1)\n",
        "  if t2.shape[0]>100 and t2.shape[1]>200:\n",
        "    paths.append(t1)\n",
        "paths\n"
      ],
      "metadata": {
        "colab": {
          "base_uri": "https://localhost:8080/"
        },
        "id": "HxOpUFgK9t_x",
        "outputId": "d111246f-1102-4fe6-8709-54ca62948b78"
      },
      "execution_count": 62,
      "outputs": [
        {
          "output_type": "execute_result",
          "data": {
            "text/plain": [
              "['/content/gdrive/MyDrive/ml-bgu/datasets_after_preprocessing/microbiome_data/bushman_cafe.csv',\n",
              " '/content/gdrive/MyDrive/ml-bgu/datasets_after_preprocessing/microbiome_data/david.csv',\n",
              " '/content/gdrive/MyDrive/ml-bgu/datasets_after_preprocessing/microbiome_data/claesson.csv',\n",
              " '/content/gdrive/MyDrive/ml-bgu/datasets_after_preprocessing/microbiome_data/kostic.csv',\n",
              " '/content/gdrive/MyDrive/ml-bgu/datasets_after_preprocessing/microbiome_data/turnbaugh.csv']"
            ]
          },
          "metadata": {},
          "execution_count": 62
        }
      ]
    },
    {
      "cell_type": "markdown",
      "source": [
        "## Filter features due to CPU runtime "
      ],
      "metadata": {
        "id": "zqajVpIZJIM3"
      }
    },
    {
      "cell_type": "code",
      "source": [
        "from sklearn.feature_selection import f_classif\n",
        "from sklearn.feature_selection import SelectKBest\n",
        "\n",
        "def filter_features(df):\n",
        "  target = df['y']\n",
        "  features_df = df.drop(columns=['y'])\n",
        "  selector = SelectKBest(f_classif, k=1000)\n",
        "  selector.fit(features_df, target)\n",
        "  cols = selector.get_support(indices=True)\n",
        "  features_df_new = features_df.iloc[:,cols]\n",
        "  features_df_new['y'] = target\n",
        "  return features_df_new\n"
      ],
      "metadata": {
        "id": "zvpGy-vG4fYx"
      },
      "execution_count": 45,
      "outputs": []
    },
    {
      "cell_type": "code",
      "source": [
        "df_paths_to_filter = ['/content/gdrive/MyDrive/ml-bgu/datasets_after_preprocessing/scikit-feature/arcene.csv',\n",
        "'/content/gdrive/MyDrive/ml-bgu/datasets_after_preprocessing/scikit-feature/Carcinom.csv',\n",
        "'/content/gdrive/MyDrive/ml-bgu/datasets_after_preprocessing/scikit-feature/orlraws10P.csv',\n",
        "'/content/gdrive/MyDrive/ml-bgu/datasets_after_preprocessing/scikit-feature/warpAR10P.csv']\n",
        "for df_path in df_paths_to_filter:\n",
        "  df = pd.read_csv(df_path)\n",
        "  df = filter_features(df)\n",
        "  df.to_csv(df_path)"
      ],
      "metadata": {
        "id": "TKIXJnDUKuZ8"
      },
      "execution_count": null,
      "outputs": []
    },
    {
      "cell_type": "code",
      "source": [
        "df_paths_to_filter = ['/content/gdrive/MyDrive/ml-bgu/datasets_after_preprocessing/Datamicroarray/yeoh.csv',\n",
        "'/content/gdrive/MyDrive/ml-bgu/datasets_after_preprocessing/Datamicroarray/singh.csv']\n",
        "for df_path in df_paths_to_filter:\n",
        "  df = pd.read_csv(df_path)\n",
        "  df = filter_features(df)\n",
        "  df.to_csv(df_path)"
      ],
      "metadata": {
        "id": "QPT-5reHW7zf"
      },
      "execution_count": null,
      "outputs": []
    },
    {
      "cell_type": "markdown",
      "source": [
        "## Filter number of rows"
      ],
      "metadata": {
        "id": "MB0FpTdWJUgV"
      }
    },
    {
      "cell_type": "code",
      "source": [
        "df_paths = ['/content/gdrive/MyDrive/ml-bgu/datasets_after_preprocessing/microbiome_data/bushman_cafe.csv',\n",
        " '/content/gdrive/MyDrive/ml-bgu/datasets_after_preprocessing/microbiome_data/david.csv',\n",
        " '/content/gdrive/MyDrive/ml-bgu/datasets_after_preprocessing/microbiome_data/claesson.csv',\n",
        " '/content/gdrive/MyDrive/ml-bgu/datasets_after_preprocessing/microbiome_data/kostic.csv',\n",
        " '/content/gdrive/MyDrive/ml-bgu/datasets_after_preprocessing/microbiome_data/turnbaugh.csv']\n",
        "\n",
        "for path in df_paths:\n",
        "  df = pd.read_csv(path)\n",
        "  print(df.shape)\n",
        "  #df.groupby('y', group_keys=False).apply(lambda x: x.sample(frac=0.2 if df.shape[0] < 800 else 0.1))\n",
        "\n",
        "  #df = df.sample(n=400)\n",
        "  #df.to_csv(path)\n"
      ],
      "metadata": {
        "colab": {
          "base_uri": "https://localhost:8080/"
        },
        "id": "gvQDircFJZ6h",
        "outputId": "de5bc7dc-9b60-4f79-97a1-a94300fd51c7"
      },
      "execution_count": 179,
      "outputs": [
        {
          "output_type": "stream",
          "name": "stdout",
          "text": [
            "(354, 291)\n",
            "(157, 1383)\n",
            "(113, 510)\n",
            "(107, 576)\n",
            "(121, 849)\n"
          ]
        }
      ]
    },
    {
      "cell_type": "code",
      "source": [
        "path = '/content/gdrive/MyDrive/ml-bgu/datasets_after_preprocessing/microbiome_data/bushman_cafe.csv'\n",
        "t = pd.read_csv(path)\n",
        "t2 = t.groupby('y', group_keys=False).apply(lambda x: x.sample(frac=0.2))\n",
        "t2.to_csv(path)"
      ],
      "metadata": {
        "id": "ARJH7FYyPwvd"
      },
      "execution_count": 173,
      "outputs": []
    },
    {
      "cell_type": "code",
      "source": [
        "from collections import Counter \n",
        "path = '/content/gdrive/MyDrive/ml-bgu/datasets_after_preprocessing/microbiome_data/david.csv'\n",
        "t = pd.read_csv(path)\n",
        "print(Counter(t['y']))\n",
        "t_temp = t[t['y'] != 2]\n",
        "t_temp2 = t[t['y'] == 2].sample(frac=0.025)\n",
        "t = pd.concat([t_temp, t_temp2], ignore_index=True)\n",
        "t.to_csv(path)"
      ],
      "metadata": {
        "colab": {
          "base_uri": "https://localhost:8080/"
        },
        "id": "49kvP48iQFV9",
        "outputId": "618806d4-939d-4d1b-abad-88b38d9822b4"
      },
      "execution_count": 190,
      "outputs": [
        {
          "output_type": "stream",
          "name": "stdout",
          "text": [
            "Counter({2: 6274, 1: 10, 0: 9})\n"
          ]
        }
      ]
    },
    {
      "cell_type": "code",
      "source": [
        "path = '/content/gdrive/MyDrive/ml-bgu/datasets_after_preprocessing/microbiome_data/claesson.csv'\n",
        "t = pd.read_csv(path)\n",
        "t2 = t.groupby('y', group_keys=False).apply(lambda x: x.sample(frac=0.03))\n",
        "t2.to_csv(path)"
      ],
      "metadata": {
        "id": "zU7jgKfRQSmf"
      },
      "execution_count": 175,
      "outputs": []
    },
    {
      "cell_type": "code",
      "source": [
        "path = '/content/gdrive/MyDrive/ml-bgu/datasets_after_preprocessing/microbiome_data/kostic.csv'\n",
        "t = pd.read_csv(path)\n",
        "t2 = t.groupby('y', group_keys=False).apply(lambda x: x.sample(frac=0.033))\n",
        "t2.to_csv(path)"
      ],
      "metadata": {
        "id": "Ic1gc4zIQWgK"
      },
      "execution_count": 176,
      "outputs": []
    },
    {
      "cell_type": "code",
      "source": [
        "path = '/content/gdrive/MyDrive/ml-bgu/datasets_after_preprocessing/microbiome_data/turnbaugh.csv'\n",
        "t = pd.read_csv(path)\n",
        "print(Counter(t['y']))\n",
        "t_temp = t[t['y'] != 2]\n",
        "t_temp2 = t[t['y'] == 2].sample(frac=0.038)\n",
        "t = pd.concat([t_temp, t_temp2], ignore_index=True)\n",
        "t.to_csv(path)"
      ],
      "metadata": {
        "colab": {
          "base_uri": "https://localhost:8080/"
        },
        "id": "X7D25o5_QfpV",
        "outputId": "e5bacd6b-a548-47f4-8bb3-87c0fce510b9"
      },
      "execution_count": 201,
      "outputs": [
        {
          "output_type": "stream",
          "name": "stdout",
          "text": [
            "Counter({2: 3909, 1: 107, 0: 35})\n"
          ]
        }
      ]
    },
    {
      "cell_type": "code",
      "source": [
        "t = pd.read_csv('/content/gdrive/MyDrive/ml-bgu/datasets_after_preprocessing/microbiome_data/bushman_cafe.csv')\n",
        "print(Counter(t['y']))\n",
        "t_temp = t[t['y'] != 2]\n",
        "t_temp2 = t[t['y'] == 2].sample(frac=0.08)\n",
        "t = pd.concat([t_temp, t_temp2], ignore_index=True)\n",
        "print(Counter(t['y']))\n",
        "print(t.shape)\n",
        "t.to_csv(path)"
      ],
      "metadata": {
        "colab": {
          "base_uri": "https://localhost:8080/"
        },
        "id": "Ss-P9db6Nmne",
        "outputId": "26ae4d74-bcbc-4313-fd95-3152a4ae50c7"
      },
      "execution_count": 211,
      "outputs": [
        {
          "output_type": "stream",
          "name": "stdout",
          "text": [
            "Counter({2: 1759, 0: 5, 1: 5})\n",
            "Counter({2: 141, 0: 5, 1: 5})\n",
            "(151, 290)\n"
          ]
        }
      ]
    }
  ]
}