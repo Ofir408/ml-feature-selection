{
  "nbformat": 4,
  "nbformat_minor": 0,
  "metadata": {
    "colab": {
      "name": "ofir-final-project-part6.ipynb",
      "provenance": [],
      "collapsed_sections": [],
      "authorship_tag": "ABX9TyOXimvtek0HdGLiCpggfqlV",
      "include_colab_link": true
    },
    "kernelspec": {
      "name": "python3",
      "display_name": "Python 3"
    },
    "language_info": {
      "name": "python"
    }
  },
  "cells": [
    {
      "cell_type": "markdown",
      "metadata": {
        "id": "view-in-github",
        "colab_type": "text"
      },
      "source": [
        "<a href=\"https://colab.research.google.com/github/Ofir408/ml-feature-selection/blob/main/ofir_final_project_part6.ipynb\" target=\"_parent\"><img src=\"https://colab.research.google.com/assets/colab-badge.svg\" alt=\"Open In Colab\"/></a>"
      ]
    },
    {
      "cell_type": "markdown",
      "source": [
        "Ofir Ben Shoham"
      ],
      "metadata": {
        "id": "4BUx62gt5_2d"
      }
    },
    {
      "cell_type": "markdown",
      "source": [
        "In this notebook we will try to understand why LOOCV can be underestimate."
      ],
      "metadata": {
        "id": "vzYLlIk_6Cxi"
      }
    },
    {
      "cell_type": "code",
      "execution_count": null,
      "metadata": {
        "id": "XRfejqUI57t-"
      },
      "outputs": [],
      "source": [
        "import sklearn\n",
        "import numpy as np "
      ]
    },
    {
      "cell_type": "code",
      "source": [
        "X = np.array([[1, 2], [2, 3], [1, 4], [2, 3], [2, 0], [0, 1]])\n",
        "y = np.array([0, 1, 1, 0, 0, 1])"
      ],
      "metadata": {
        "id": "HhXEsG446fNE"
      },
      "execution_count": null,
      "outputs": []
    },
    {
      "cell_type": "code",
      "source": [
        "from sklearn.dummy import DummyClassifier\n",
        "dummy_clf = DummyClassifier(strategy=\"most_frequent\")\n",
        "dummy_clf.fit(X, y)\n"
      ],
      "metadata": {
        "colab": {
          "base_uri": "https://localhost:8080/"
        },
        "id": "_irj_toD6yOP",
        "outputId": "4a017868-6052-4a1e-9c0e-08e59769ff93"
      },
      "execution_count": null,
      "outputs": [
        {
          "output_type": "execute_result",
          "data": {
            "text/plain": [
              "DummyClassifier(strategy='most_frequent')"
            ]
          },
          "metadata": {},
          "execution_count": 9
        }
      ]
    },
    {
      "cell_type": "code",
      "source": [
        "from sklearn.model_selection import cross_val_score, LeaveOneOut, LeavePOut\n",
        "from sklearn.model_selection import LeaveOneOut\n",
        "\n",
        "print('Leave-one-out cross validation= ', cross_val_score(dummy_clf, X, y, cv=LeaveOneOut()))\n",
        "print('Leave-pair-out cross validation= ', cross_val_score(dummy_clf, X, y, cv=LeavePOut(p=2)))"
      ],
      "metadata": {
        "colab": {
          "base_uri": "https://localhost:8080/"
        },
        "id": "AJ4qQhLp6_5o",
        "outputId": "653d554b-dcf6-45e2-ce37-ef94b3257df4"
      },
      "execution_count": null,
      "outputs": [
        {
          "output_type": "stream",
          "name": "stdout",
          "text": [
            "Leave-one-out cross validation=  [0. 0. 0. 0. 0. 0.]\n",
            "Leave-pair-out cross validation=  [0.5 0.5 0.  0.  0.5 0.  0.5 0.5 0.  0.5 0.5 0.  0.  0.5 0.5]\n"
          ]
        }
      ]
    },
    {
      "cell_type": "markdown",
      "source": [
        "avg cross val results: "
      ],
      "metadata": {
        "id": "rYkv01s97oRF"
      }
    },
    {
      "cell_type": "code",
      "source": [
        "print('Leave-one-out cross validation= ', np.mean(cross_val_score(dummy_clf, X, y, cv=LeaveOneOut())))\n",
        "print('Leave-pair-out cross validation= ', np.mean(cross_val_score(dummy_clf, X, y, cv=LeavePOut(p=2))))"
      ],
      "metadata": {
        "colab": {
          "base_uri": "https://localhost:8080/"
        },
        "id": "u3zMsi4L7E-5",
        "outputId": "3e182dc6-3616-49e7-f42e-aaea289455d7"
      },
      "execution_count": null,
      "outputs": [
        {
          "output_type": "stream",
          "name": "stdout",
          "text": [
            "Leave-one-out cross validation=  0.0\n",
            "Leave-pair-out cross validation=  0.3\n"
          ]
        }
      ]
    },
    {
      "cell_type": "markdown",
      "source": [
        "We can see that 0.3 > 0"
      ],
      "metadata": {
        "id": "RBBMVJ2y7vbf"
      }
    },
    {
      "cell_type": "markdown",
      "source": [
        "The reason for this is because LOOCV always fit on `n-1` examples and test on the `n` example (the remaining example).\n",
        "\n",
        "In our case, our data is stable, and the DummyClassifier takes the most frequent. \n",
        "In this case, the remaining example always is not the same prediction of the DummyClassifier. Therefore, its CV is `0`.\n",
        "\n",
        "However, the cv Leave-pair-out fit on `n-2` examples, and test on the remaining `2` examples. Therefore, the CV of the `DummyClassifier` in the LOOCV gives undereastimation rather than `Leave-pair-out` and others."
      ],
      "metadata": {
        "id": "ifCAQmNk70-A"
      }
    },
    {
      "cell_type": "markdown",
      "source": [
        "To sum up, `LOOCV` underestimate because we can't calculate `ROC AUC` on a specific example (from only one class). Therefore, we need to `pooling` and afterwards calculate the `ROC AUC` value. \n",
        "However, in the case of `Leave-pair-out` we calculate `ROC AUC` on two example everytime (possibly from two classes sometimes) and then we average. Therefore, `LOOCV` underestimate unlike `Leave-pair-out`"
      ],
      "metadata": {
        "id": "jYq_bJNlxUPu"
      }
    },
    {
      "cell_type": "code",
      "source": [
        ""
      ],
      "metadata": {
        "id": "lCy-qBAPAsVT"
      },
      "execution_count": null,
      "outputs": []
    }
  ]
}